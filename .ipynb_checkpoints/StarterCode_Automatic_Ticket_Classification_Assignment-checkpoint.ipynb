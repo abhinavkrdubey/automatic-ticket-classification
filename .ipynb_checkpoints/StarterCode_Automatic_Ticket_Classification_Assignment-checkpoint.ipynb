{
 "cells": [
  {
   "cell_type": "markdown",
   "metadata": {
    "id": "rhR-ZUkwJrFn"
   },
   "source": [
    "## Problem Statement \n",
    "\n",
    "You need to build a model that is able to classify customer complaints based on the products/services. By doing so, you can segregate these tickets into their relevant categories and, therefore, help in the quick resolution of the issue.\n",
    "\n",
    "You will be doing topic modelling on the <b>.json</b> data provided by the company. Since this data is not labelled, you need to apply NMF to analyse patterns and classify tickets into the following five clusters based on their products/services:\n",
    "\n",
    "* Credit card / Prepaid card\n",
    "\n",
    "* Bank account services\n",
    "\n",
    "* Theft/Dispute reporting\n",
    "\n",
    "* Mortgages/loans\n",
    "\n",
    "* Others \n",
    "\n",
    "\n",
    "With the help of topic modelling, you will be able to map each ticket onto its respective department/category. You can then use this data to train any supervised model such as logistic regression, decision tree or random forest. Using this trained model, you can classify any new customer complaint support ticket into its relevant department."
   ]
  },
  {
   "cell_type": "markdown",
   "metadata": {
    "id": "mcgXVNyaLUFS"
   },
   "source": [
    "## Pipelines that needs to be performed:\n",
    "\n",
    "You need to perform the following eight major tasks to complete the assignment:\n",
    "\n",
    "1.  Data loading\n",
    "\n",
    "2. Text preprocessing\n",
    "\n",
    "3. Exploratory data analysis (EDA)\n",
    "\n",
    "4. Feature extraction\n",
    "\n",
    "5. Topic modelling \n",
    "\n",
    "6. Model building using supervised learning\n",
    "\n",
    "7. Model training and evaluation\n",
    "\n",
    "8. Model inference"
   ]
  },
  {
   "cell_type": "markdown",
   "metadata": {
    "id": "JuLFIymAL58u"
   },
   "source": [
    "## Importing the necessary libraries"
   ]
  },
  {
   "cell_type": "code",
   "execution_count": 1,
   "metadata": {
    "id": "O-Q9pqrcJrFr"
   },
   "outputs": [],
   "source": [
    "import json \n",
    "import numpy as np\n",
    "import pandas as pd\n",
    "import re, nltk, spacy, string\n",
    "import en_core_web_md\n",
    "nlp = en_core_web_md.load()\n",
    "import seaborn as sns\n",
    "import matplotlib.pyplot as plt\n",
    "%matplotlib inline\n",
    "\n",
    "from plotly.offline import plot\n",
    "import plotly.graph_objects as go\n",
    "import plotly.express as px\n",
    "\n",
    "from sklearn.feature_extraction.text import CountVectorizer, TfidfVectorizer\n",
    "from pprint import pprint"
   ]
  },
  {
   "cell_type": "code",
   "execution_count": 2,
   "metadata": {},
   "outputs": [],
   "source": [
    "from nltk.corpus import stopwords"
   ]
  },
  {
   "cell_type": "code",
   "execution_count": 3,
   "metadata": {},
   "outputs": [],
   "source": [
    "# from google.colab import files\n",
    "# uploaded = files.upload()"
   ]
  },
  {
   "cell_type": "markdown",
   "metadata": {
    "id": "KtRLCsNVJrFt"
   },
   "source": [
    "## Loading the data\n",
    "\n",
    "The data is in JSON format and we need to convert it to a dataframe."
   ]
  },
  {
   "cell_type": "code",
   "execution_count": 4,
   "metadata": {
    "id": "puVzIf_iJrFt"
   },
   "outputs": [],
   "source": [
    "# Opening JSON file \n",
    "f = open('complaints-2021-05-14_08_16.json','r')  # Write the path to your data file and load it \n",
    "  \n",
    "# returns JSON object as  \n",
    "# a dictionary \n",
    "data = json.load(f)\n",
    "df = pd.json_normalize(data)"
   ]
  },
  {
   "cell_type": "code",
   "execution_count": 5,
   "metadata": {},
   "outputs": [
    {
     "data": {
      "text/html": [
       "<div>\n",
       "<style scoped>\n",
       "    .dataframe tbody tr th:only-of-type {\n",
       "        vertical-align: middle;\n",
       "    }\n",
       "\n",
       "    .dataframe tbody tr th {\n",
       "        vertical-align: top;\n",
       "    }\n",
       "\n",
       "    .dataframe thead th {\n",
       "        text-align: right;\n",
       "    }\n",
       "</style>\n",
       "<table border=\"1\" class=\"dataframe\">\n",
       "  <thead>\n",
       "    <tr style=\"text-align: right;\">\n",
       "      <th></th>\n",
       "      <th>_index</th>\n",
       "      <th>_type</th>\n",
       "      <th>_id</th>\n",
       "      <th>_score</th>\n",
       "      <th>_source.tags</th>\n",
       "      <th>_source.zip_code</th>\n",
       "      <th>_source.complaint_id</th>\n",
       "      <th>_source.issue</th>\n",
       "      <th>_source.date_received</th>\n",
       "      <th>_source.state</th>\n",
       "      <th>...</th>\n",
       "      <th>_source.company_response</th>\n",
       "      <th>_source.company</th>\n",
       "      <th>_source.submitted_via</th>\n",
       "      <th>_source.date_sent_to_company</th>\n",
       "      <th>_source.company_public_response</th>\n",
       "      <th>_source.sub_product</th>\n",
       "      <th>_source.timely</th>\n",
       "      <th>_source.complaint_what_happened</th>\n",
       "      <th>_source.sub_issue</th>\n",
       "      <th>_source.consumer_consent_provided</th>\n",
       "    </tr>\n",
       "  </thead>\n",
       "  <tbody>\n",
       "    <tr>\n",
       "      <th>0</th>\n",
       "      <td>complaint-public-v2</td>\n",
       "      <td>complaint</td>\n",
       "      <td>3211475</td>\n",
       "      <td>0.0</td>\n",
       "      <td>None</td>\n",
       "      <td>90301</td>\n",
       "      <td>3211475</td>\n",
       "      <td>Attempts to collect debt not owed</td>\n",
       "      <td>2019-04-13T12:00:00-05:00</td>\n",
       "      <td>CA</td>\n",
       "      <td>...</td>\n",
       "      <td>Closed with explanation</td>\n",
       "      <td>JPMORGAN CHASE &amp; CO.</td>\n",
       "      <td>Web</td>\n",
       "      <td>2019-04-13T12:00:00-05:00</td>\n",
       "      <td>None</td>\n",
       "      <td>Credit card debt</td>\n",
       "      <td>Yes</td>\n",
       "      <td></td>\n",
       "      <td>Debt is not yours</td>\n",
       "      <td>Consent not provided</td>\n",
       "    </tr>\n",
       "    <tr>\n",
       "      <th>1</th>\n",
       "      <td>complaint-public-v2</td>\n",
       "      <td>complaint</td>\n",
       "      <td>3229299</td>\n",
       "      <td>0.0</td>\n",
       "      <td>Servicemember</td>\n",
       "      <td>319XX</td>\n",
       "      <td>3229299</td>\n",
       "      <td>Written notification about debt</td>\n",
       "      <td>2019-05-01T12:00:00-05:00</td>\n",
       "      <td>GA</td>\n",
       "      <td>...</td>\n",
       "      <td>Closed with explanation</td>\n",
       "      <td>JPMORGAN CHASE &amp; CO.</td>\n",
       "      <td>Web</td>\n",
       "      <td>2019-05-01T12:00:00-05:00</td>\n",
       "      <td>None</td>\n",
       "      <td>Credit card debt</td>\n",
       "      <td>Yes</td>\n",
       "      <td>Good morning my name is XXXX XXXX and I apprec...</td>\n",
       "      <td>Didn't receive enough information to verify debt</td>\n",
       "      <td>Consent provided</td>\n",
       "    </tr>\n",
       "  </tbody>\n",
       "</table>\n",
       "<p>2 rows × 22 columns</p>\n",
       "</div>"
      ],
      "text/plain": [
       "                _index      _type      _id  _score   _source.tags  \\\n",
       "0  complaint-public-v2  complaint  3211475     0.0           None   \n",
       "1  complaint-public-v2  complaint  3229299     0.0  Servicemember   \n",
       "\n",
       "  _source.zip_code _source.complaint_id                      _source.issue  \\\n",
       "0            90301              3211475  Attempts to collect debt not owed   \n",
       "1            319XX              3229299    Written notification about debt   \n",
       "\n",
       "       _source.date_received _source.state  ... _source.company_response  \\\n",
       "0  2019-04-13T12:00:00-05:00            CA  ...  Closed with explanation   \n",
       "1  2019-05-01T12:00:00-05:00            GA  ...  Closed with explanation   \n",
       "\n",
       "        _source.company _source.submitted_via _source.date_sent_to_company  \\\n",
       "0  JPMORGAN CHASE & CO.                   Web    2019-04-13T12:00:00-05:00   \n",
       "1  JPMORGAN CHASE & CO.                   Web    2019-05-01T12:00:00-05:00   \n",
       "\n",
       "  _source.company_public_response _source.sub_product _source.timely  \\\n",
       "0                            None    Credit card debt            Yes   \n",
       "1                            None    Credit card debt            Yes   \n",
       "\n",
       "                     _source.complaint_what_happened  \\\n",
       "0                                                      \n",
       "1  Good morning my name is XXXX XXXX and I apprec...   \n",
       "\n",
       "                                  _source.sub_issue  \\\n",
       "0                                 Debt is not yours   \n",
       "1  Didn't receive enough information to verify debt   \n",
       "\n",
       "  _source.consumer_consent_provided  \n",
       "0              Consent not provided  \n",
       "1                  Consent provided  \n",
       "\n",
       "[2 rows x 22 columns]"
      ]
     },
     "execution_count": 5,
     "metadata": {},
     "output_type": "execute_result"
    }
   ],
   "source": [
    "df.head(2)"
   ]
  },
  {
   "cell_type": "code",
   "execution_count": 6,
   "metadata": {},
   "outputs": [
    {
     "data": {
      "text/plain": [
       "0"
      ]
     },
     "execution_count": 6,
     "metadata": {},
     "output_type": "execute_result"
    }
   ],
   "source": [
    "df['_source.complaint_what_happened'].isna().sum()"
   ]
  },
  {
   "cell_type": "code",
   "execution_count": 7,
   "metadata": {},
   "outputs": [
    {
     "data": {
      "text/plain": [
       "((78313, 22), (21072, 22))"
      ]
     },
     "execution_count": 7,
     "metadata": {},
     "output_type": "execute_result"
    }
   ],
   "source": [
    "df.shape , df[df['_source.complaint_what_happened']!=''].shape"
   ]
  },
  {
   "cell_type": "code",
   "execution_count": 8,
   "metadata": {},
   "outputs": [],
   "source": [
    "df = df[df['_source.complaint_what_happened']!=''].reset_index()"
   ]
  },
  {
   "cell_type": "code",
   "execution_count": 9,
   "metadata": {},
   "outputs": [
    {
     "name": "stdout",
     "output_type": "stream",
     "text": [
      "(21072, 23)\n"
     ]
    },
    {
     "data": {
      "text/plain": [
       "0.7309258999144459"
      ]
     },
     "execution_count": 9,
     "metadata": {},
     "output_type": "execute_result"
    }
   ],
   "source": [
    "print(df.shape)\n",
    "57241/78313"
   ]
  },
  {
   "cell_type": "code",
   "execution_count": 7,
   "metadata": {},
   "outputs": [],
   "source": [
    "import swifter"
   ]
  },
  {
   "cell_type": "code",
   "execution_count": 15,
   "metadata": {},
   "outputs": [
    {
     "data": {
      "text/plain": [
       "0        good morning my name is xxxx xxxx and i apprec...\n",
       "1        i upgraded my xxxx xxxx card in xx/xx/2018 and...\n",
       "2        chase card was reported on xx/xx/2019. however...\n",
       "3        on xx/xx/2018, while trying to book a xxxx  xx...\n",
       "4        my grand son give me check for {$1600.00} i de...\n",
       "                               ...                        \n",
       "21067    after being a chase card customer for well ove...\n",
       "21068    on wednesday, xx/xx/xxxx i called chas, my xxx...\n",
       "21069    i am not familiar with xxxx pay and did not un...\n",
       "21070    i have had flawless credit for 30 yrs. i've ha...\n",
       "21071    roughly 10+ years ago i closed out my accounts...\n",
       "Name: _source.complaint_what_happened, Length: 21072, dtype: object"
      ]
     },
     "execution_count": 15,
     "metadata": {},
     "output_type": "execute_result"
    }
   ],
   "source": [
    "df['_source.complaint_what_happened'].str.lower()"
   ]
  },
  {
   "cell_type": "code",
   "execution_count": 9,
   "metadata": {},
   "outputs": [
    {
     "data": {
      "application/vnd.jupyter.widget-view+json": {
       "model_id": "22a32b343a29456991871952fe92426e",
       "version_major": 2,
       "version_minor": 0
      },
      "text/plain": [
       "Pandas Apply:   0%|          | 0/78313 [00:00<?, ?it/s]"
      ]
     },
     "metadata": {},
     "output_type": "display_data"
    },
    {
     "data": {
      "text/plain": [
       "0        False\n",
       "1        False\n",
       "2        False\n",
       "3        False\n",
       "4        False\n",
       "         ...  \n",
       "78308    False\n",
       "78309    False\n",
       "78310    False\n",
       "78311    False\n",
       "78312    False\n",
       "Name: _source.complaint_what_happened, Length: 78313, dtype: bool"
      ]
     },
     "execution_count": 9,
     "metadata": {},
     "output_type": "execute_result"
    }
   ],
   "source": [
    "df['_source.complaint_what_happened'].swifter.apply(lambda x:'PRON' in x.upper())"
   ]
  },
  {
   "cell_type": "code",
   "execution_count": 17,
   "metadata": {
    "collapsed": true
   },
   "outputs": [
    {
     "data": {
      "text/plain": [
       "'RE : Complaint Against JP Morgan Chase, XXXX Home Lending Advisor, Ms. XXXX XXXX and Manager, Mr. XXXX XXXX SUBJECT : Refinancing Home Loan via Chase Home Loan No.  XXXX Mr. XXXX XXXX, with regards to your deference to Chase Executive office based upon your interpretation of my e-mail dated XXXX XXXX, XXXX, that the correspondence intimated a threat of suit, perhaps the terseness of the narrative may have animated such an inference, but it was merely a correspondence of frustration invoked by my interpretation of an apparent deficiency of candor in what would appear to be a simple and mechanical process based on basic Standards of Care. \\n\\nFrom XX/XX/XXXX until Friday, XX/XX/XXXX Ms. XXXX, XXXX Home Loan Advisor, Agent of JP Morgan Chase unacceptable conduct along with email communication that is part of the record clearly supports the allegations of Unfair Business Practices and Fraudulent Business Practices. \\n\\nCOMMON SENSE : The Standards of Care which affords common sense to prevail in a style articulated by our SCOUTUS as stated by the following : In interpreting this text, we are guided by the principle that [ t ] he Constitution was written to be understood by the voters ; its words and phrases were used in their normal and ordinary as distinguished from technical meaning. United States v. Sprague, 282 U. S. 716, 731 ( 1931 ) ; see also Gibbons v. Ogden, 9 Wheat. 1, 188 ( 1824 ). Normal meaning may of course include an idiomatic meaning, but it excludes secret or technical meanings that would not have been known to ordinary citizens in the founding generation. District of Columbia v. Heller, 554 U.S. 570 ( 2008 ).\\n\\nOBLIGATIONS : In common language, the state of California articulates the predicate for an obligation by stating the following : CODE OF CIVIL PROCEDURE CCP PRELIMINARY PROVISIONS ( Preliminary Provisions enacted 1872. ) 26. Section Twenty-Six. An obligation is a legal duty, by which one person is bound to do or not to do a certain thing, and arises from : One- Contract ; or Two- Operation of law.\\n\\n( Amended by Code Amendments 1873 -74, Ch. 383 ) COMMON LANGUAGE : The State of  California clarifies the meaning of the terms Contract or by Operation of Law with the following : CIVIL CODE CIV DIVISION 3. OBLIGAGTIONS PART 1. OBLIGATIONS IN GENERAL TITLE 1. DEFINITION OF OBLIGATIONS 1427. An obligation is a legal duty, by which a person is bound to do or not to do a certain thing.\\n\\n1428. Section Fourteen Hundred and Twenty-Eight. An obligation arises either from : One The contract of the parties ; or, Two The operation of law. An obligation arising from operation of law may be enforced in the manner provided by law, or by civil action or proceeding.\\n\\n( Amended by Code Amendments 1872 74, Ch. 612. ) A CONTEMPORANEOUS REVIEW OF  EVENTS It was XX/XX/XXXX, when my wife and I first made the acquaintance of Mrs. XXXX XXXX as a JP Morgan Chase, XXXX Home Lending Advisor NMLS ID XXXX, at the XXXX, CA branch where she introduced herself and represented that she has a 10-years tenure with JP Morgan Chase as a Home Lending Advisor. \\n\\nAs the more knowledgeable person, my wife engaged the financial details of the prospective Refinancing details of the conversation with Mrs. XXXX XXXX, articulating : 1. My wife shared with Ms. XXXX that she believed my Credit Score should be in the range of 700 720. \\n2. We disclosed that we did NOT want to take any cash out of the property.\\n\\n3. We also shared with her that we would be paying out of pocket the refinancing cost so please do not wrap any cost into the Loan. \\n4. We asked how long is Chases Refinance process and Ms. XXXX share 45 to 60 days. We asked whether or not if she could complete the process in 30 days since we would not be taking any cash out. She committed to completing the process in 30 days if we were able to forward all of the documents on the list she provided back to her on Saturday, XX/XX/XXXX. We committed to going home and forwarding to her all of the documents requested on Saturday, XXXX XXXX. \\n5. Ms. XXXX represented that we would not have to do an appraisal since XXXX XXXX the property at ; $ XXXX. \\n\\nMrs. XXXX XXXX further represented : 1. After we provided Ms. XXXX with a copy of our current Mortgage Statement. She completed her Calculation using the automated Mortgage Calculator on her desktop, using a Credit Score of XXXX then changing it to XXXX points. The calculation provided an Interest Rate of 3.87 %. \\n2. Ms. XXXX never disclosed to my wife and I that we would have to provide a Good Faith Fee of {$500.00}. \\n\\nAgain, my wife represented to Mrs. XXXX XXXX at the conclusion of the XX/XX/XXXX, meeting that she would immediately send over the requested loan documents as soon as we arrived home, which, Mrs. XXXX appeared to acknowledge in affirmation since it was before XXXX Oclock XXXX. \\n\\nITENARY OF ACTIVITY My wife sent over all of the documents to Ms. XXXX XXXX as represented as expeditiously upon arrival to home at approximately XXXX XXXX per the e-mail dated XX/XX/XXXX. \\nReply e-mail from Ms. XXXX indicated that she was gone for the day XX/XX/XXXX and would not return to the office until Tuesday, XX/XX/XXXX. Hello, I am out of office for the remainder of the day. I will however respond to emails Tuesday. For urgent matters reach out to the client care specialist assigned to your loan. Thank you and have a blessed day. Thank you for choosing Chase! \\nWhen we did not her from Ms. XXXX on Tuesday, XXXX XXXX, my wife called her late Tuesday afternoon. XXXX represented that she never received the documents even though here email reply when documents were sent stated the above message. \\nMy wife asked XXXX to look into her Spam/Junk Box. That is when she confirmed she had the documents and that she would prepare the Loan Application. \\nOn XX/XX/XXXX, at XXXX XXXX Ms. XXXX XXXX remits e-mail correspondence articulating the following : Hello, Hope all is well. \\nYour loan application is ready. Please connect with me once you review them. The rate was higher due to the credit coming in a little lower, [ Fico Scores, XXXX, XXXX and XXXX, respectively ], but I will reach out to my management if there is anything we can do. \\n\\nOne item was missing, the home owners declaration page. \\n\\nPlease send that last item as well. \\n\\nRegards, XXXX If you are not 100 % satisfied with my service or your experience with Chase at any time, please let me or my manager know right away. Our contact information is below. \\n\\nThank you for choosing Chase. \\n\\nMy wife and I sent e-mail correspondence to Ms. XXXX XXXX on XX/XX/XXXX at XXXX XXXX, stating : Hi XXXX : Below you state, the rate was higher due to the credit coming in a little lower. What is the Fico Score? What is the Rate you are now quoting on the application? \\n\\nWhat is Chase fee on buying down Points, would you kindly itemize them out so that me and my wife can review? \\n\\nWhat does your statement below mean where you state, but I will reach out to my management if there is anything we can do? \\n\\nLastly, the no-reply @ mail-chasemortgage email link for me to sign-up does not work! Also, if it did work, I would be unable to complete the application due to the fact that you DID NOT provide me with a Loan Application Number. We would like to complete this process within 30 days, which you stated that you would be able to make that work but I cant begin the process without a Loan Application Number as well as knowing what Rate you are now quoting and what my Fico Score is coming back at. Can you provide a copy of the credit report so that I can review it for discrepancies? \\n\\nI, We, look forward to your quick response. \\n\\nBest regards, XXXX XXXX and wife XXXX. \\n\\nLater in the afternoon of Wednesday, XX/XX/XXXX, at XXXX XXXX  EDT, Ms. XXXX XXXX remitted a reply e-mail in response to the Joint e-mail of my wife and I, sent at XXXX XXXX, by stating the following : Hello, I hope all is well. \\n\\nSo, for starters, the information you requested, the credit score range : XXXX  XXXX, XXXX  XXXX, XXXX XXXX XXXX. \\n\\nYour mortgage loan number is XXXX. This should help with the portal and reviewing the loan application disclosures. \\n\\nFor now, the rate we have 4.125 %, APR 4.161 % Total cost of loan {$2200.00}, and we are not in need of an appraisal. With the proposed figures your payment will be {$2500.00} decreasing {$290.00}, and eliminating your mortgage insurance. \\n\\nBuy down the points are the following : 4.00 %, APR 4.0330 %, cost {$3700.00} ( payment {$2500.00} ) 3.875 %, APR 3.9430 %, cost {$5300.00} ( payment {$2500.00} ). \\n\\nLet me know your thoughts, and XXXX you can call me this evening when your home and we can talk and go thru the application over the phone if you like. \\nIf you are not 100 % satisfied with my service or your experience with Chase at any time, please let me or my manager know right away. Our contact information is below. Thank you for choosing Chase. \\n\\n\\nWHAT IS DECEPTION This communication portends several issues from my perspective ; first there is a matter of dubious candor as articulated in the plain language of California CIV 1709 1710, which articulate the following : CIVIL CODE-CIV DIVISION 3. OBLIGATIONS [ 1427 -3272.9 ] ( Heading of Division 3 amended by Stats. 1988. Ch. 160, Sec 14 ) Part 3. OBLIGATIONS IMPOSED BY LAW [ 1708 1725 ] ( Part 3 enacted 1872. ) 1709. One, who willfully deceives  another with intent to induce him to alter his position to his injury or risk, is liable for any damage which he thereby suffers. \\n1710. A deceit, within the meaning of the last section, is either : 1. The suggestion, as a fact, of that which is not true, by one who does not believe it to be true ; 2. The assertion, as a fact, of that which is not true, by one who has no reasonable ground for believing it to be true ; 3. The suppression of a fact, by one who is bound to disclose it, or who gives information of other facts which are likely to mislead for want of communication of that fact ; or, 4. A promise, made without any intention of performing it.\\n\\n( enacted 1872 ) BACK AND FORTH BANTERING : Emails dispersed from myself to Ms. XXXX XXXX and my wife to Ms. XXXX XXXX, [ cc and her supervisor, Mr. XXXX XXXX eventually, Executive Director, Mr. XXXX XXXX ] from the period of XX/XX/XXXX XX/XX/XXXX indicate a pattern of deception enumerated in CIV 1710 ( 1 4 ) and may concurrently be in contravention of GOV 12927 ( c ) ( 1 ), which articulates the following narrative in part : GOVERNMENT CODE - GOV TLE 2. GOVERNMENT OF THE STATE OF CALIFORNIA [ 8000 - 22980 ] ( Title 2 enacted by Stats. 1943, Ch. 134. ) DIVISION 3. EXECUTIVE DEPARTMENT [ 11000 - 15986 ] ( Division 3 added by Stats. 1945, Ch. 111. ) PART 2.8. DEPARTMENT OF FAIR EMPLOYMENT AND HOUSING [ 1290012996 ] ( Part 2.8 added by Stats. 1980, Ch. 992. ) CHAPTER4.Definitions [ 12925-12928 ] ( Chapter 4 added by Stats. 1980, Ch. 992. ) 12927. As used in this part in connection with housing accommodations, unless a different meaning clearly appears from the context : ( c ) ( 1 ) Discrimination *** includes provision  of inferior terms, conditions, privileges, facilities, or services in connection with those housing accommodations. \\n\\n( d ) Housing accommodation means any building, structure, or portion thereof that is occupied as, or intended for occupancy as, a residence by XXXX or more families and any vacant land that is offered for sale or lease for the construction thereon of any building, structure, or portion thereof intended to be so occupied. \\n\\n( f ) Person includes all individuals and entities that are described in Section 3602 ( d ) of Title 42 of the United States Code, and in the definition of owner in subdivision ( e ) of this section, and all institutional third parties, including the Federal Home Loan Mortgage Corporation.\\n\\n( g ) Aggrieved person includes any person who claims to have been injured by a discriminatory housing practice or believes that the person will be injured by a discriminatory housing practice that is about to occur.\\n\\n( h ) Real estate-related transactions include any of the following : ( 1 ) The making or purchasing of loans or providing other financial assistance that is for the purpose of purchasing, constructing, improving, repairing, or maintaining a dwelling, or that is secured by residential real estate.\\n\\n( 2 ) The selling, brokering, or appraising of residential real property.\\n\\n15 U.S. Code 1639. Requirements for certain mortgages : ( a ) Disclosures ( 1 ) Specific disclosures in addition to other disclosures required under this subchapter, for each mortgage referred to in section 1602 ( aa ) [ 1 ] of this title, the creditor shall provide the following disclosures in conspicuous type size : ( A ) You are not required to complete this agreement merely because you have received these disclosures or have signed a loan application.\\n\\n( o ) Affiliate defined for purposes of this section ; the term affiliate has the same meaning as in section 1841 ( k ) of title 12.\\n\\n( 1 ) Exemptions the Bureau may, by regulation or order, exempt specific mortgage products or categories of mortgages from any or all of the prohibitions specified in subsections ( c ) through ( i ), if the Bureau finds that the exemption ( A ) is in the interest of the borrowing public ; and ( B ) will apply only to products that maintain and strengthen home ownership and equity protection.\\n\\n( 2 ) Prohibitions : The Bureau, by regulation or order, shall prohibit acts or practices in connection with ( A ) mortgage loans that the Bureau finds to be unfair, deceptive, or designed to evade the provisions of this section ; and ( B ) refinancing of mortgage loans that the Bureau finds to be associated with abusive lending practices, or that are otherwise not in the interest of the borrower.\\n\\nThe sole and exclusive disclaimer made by the agents of Chase, which appears to countervails 15 U.S. C. 1639 ( a ) ( 1 ) ( A ) is the following statement : Ms. XXXX as an Agent for JP Morgan Chase lied when she stated to me and my wife that : 1. JP Morgan Chase uses the lower of the fico score when offering Loan Terms and Interest Rate to me and my wife. \\n\\n2. She lied when she presented to me and my wife that JP Morgan Chase selection of the lowest Fico Score was due to Chases Guideline ( s ) /Policy. \\n\\n3. When we asked for a copy of Chases Guidelines, she and her Manager, Mr. XXXX lied when they stated that JP Morgan Chase Guidelines are Internal documents and are not given out. \\n\\n4. When Ms. XXXX tried to cover Ms. XXXX lie. XXXX XXXX instructed myself and my wife during a phone call between the parties that the only thing we needed to do was to get a written Quote from a competitor and submit it back to her because Chase does meet their Competitors Pricing and Interest Rate. However, when we submitted a written Quote from a competitor, Mr. XXXX in support of Ms. XXXX stated in an email communication that Chase DOES NOT meet competitors pricing and since we had NOT provided a {$500.00} Good Faith Fee and did not submit all documentation [ which we did ] we had until end of business to complete the loan application reflecting the XXXX Fico Score and Pricing or cancel the process. \\n\\n5. Ms. XXXX email response to my wife when my wife sent her the competitors Pricing/Interest Rate using a XXXX Fico Score as Ms. XXXX instructed us to do with the words, where did you get this from. Never addressing that fact that the Interest Rate quoted was 3.625 % and we did what she asked of us.\\n\\n6. Ms. XXXX was asked NOT to load ANY of the cost into the Loan. She did it anyway and when asked several times to update the Loan Amount she did not complete that task until Friday, XXXX XXXX evening when she was on her way out the door for the week. \\n\\n7. Ms. XXXX lied when she sent me the initial MyHomeChase email to login and/or create login credentials in order to begin the process. Ms. XXXX FAILED to provide me with the Loan Application Number. When my wife called her regarding my inability to move forward before the 24 hours account creation expired, Ms. XXXX stated that she did not provide the Loan Application Number because she wanted me to give her a call when I discovered that I could not move forward. \\n\\n8. It was during my wife phone conference with Executive Director, Mr. XXXX XXXX on Friday, XX/XX/XXXX at XXXX that he confirmed the lies that Ms. XXXX represented on behalf of Chase. It was disclosed that Chase DOES uses the Middle Fico Score not the lowest. It was also disclosed that Chase did not have any such Guideline ( s ) /Policy of using the lowest Fico Score as previously represented to us by Ms. XXXX XXXX It was disclosed that Ms. XXXX did NOT 10 years of experience as a Home Loan Advisor with Chase. Mr. XXXX further confirmed that Ms. XXXX has worked for Chase for several years as a Teller along with assisting other Loan Advisors. I believe he also stated that my home loan application was the first home loan application that Ms. XXXX has worked on ALONE. \\n\\nMr. XXXX in Good Faith did offer my wife the option for us to move the application over to Chases XXXX location, but my wife decided to give Ms. XXXX the benefit-of-the doubt and to allow her to learn from her mistakes and complete the application process. \\nI believe Mr. XXXX XXXX stated to my wife that he had a conversation with Ms. XXXX regarding the issues. \\n\\nHowever, it was a BIG MISTAKE to leave Ms. XXXX in place. It also appears that the conversation that Mr. XXXX had with Ms. XXXX DID NOT WORK! \\nThroughout Friday, XX/XX/XXXX late afternoon Ms. XXXX sent me several misleading emails informing me that my Loan Documents were ready for me to login to MyHomeChase to complete the loan application process and to paid the {$500.00} Good Faith Fee. \\n\\nI emailed her to alert her that the documents had NOT been updated and if she would please email me alerting me when to go back into the portal after she had updated the documents. She then sent me another email late Friday afternoon informing me that my update documents were ready for me to complete and that she would send me a separate email informing me how to access the updated documents. I waited for I believe 2 hours and I emailed her back to share with her that I had not received the separate email. Later in the afternoon/early evening my wife placed a call to her. Her response that she was sorry she missed the call but was out of the office for the remaining of the day and to have a Nice Weekend. \\n\\nShortly, after that the separate email arrived. I login in once again to view the revised documents and they were still the OLD documents. I email Ms. XXXX back with both Mr. XXXX & Mr. XXXX on the email asking for their help with hanging the revised documents or assisting Ms. XXXX with hanging the revised documents. Neither Mr. XXXX nor Mr. XXXX responded. \\n\\nHowever, Ms. XXXX did respond and informed me that the rate and pricing would be updated on Monday and that the only thing she did was to change the Loan Amount. \\nShe went on to let me know that Mr. XXXX nor Mr. XXXX could handled the process of hanging of the documents and to have a Nice Weekend. \\n\\nIn conclusion, as far as I am concerned ALL of the above behavior is a clear representation of Unfair Business Practices and Fraudulent Business Practices which my last email on Friday, XXXX XXXX that Mr. XXXX responded back to and forward to his Executive Office clearly reflects my DISDAINED for being subjected to [ 2 Trusted Agents of JP Morgan Chase ], Ms. XXXX and Mr. XXXX Fraudulent and Unlawful Conduct.'"
      ]
     },
     "execution_count": 17,
     "metadata": {},
     "output_type": "execute_result"
    }
   ],
   "source": [
    "df[df['_source.complaint_what_happened'].apply(lambda x:'[' in x)]['_source.complaint_what_happened'].iloc[0]"
   ]
  },
  {
   "cell_type": "code",
   "execution_count": 9,
   "metadata": {},
   "outputs": [
    {
     "data": {
      "text/plain": [
       "<AxesSubplot:>"
      ]
     },
     "execution_count": 9,
     "metadata": {},
     "output_type": "execute_result"
    },
    {
     "data": {
      "image/png": "[encoded data removed]",
      "text/plain": [
       "<Figure size 432x288 with 1 Axes>"
      ]
     },
     "metadata": {
      "needs_background": "light"
     },
     "output_type": "display_data"
    }
   ],
   "source": [
    "df['_source.complaint_what_happened'].str.len().hist()"
   ]
  },
  {
   "cell_type": "markdown",
   "metadata": {
    "id": "_xYpH-sAJrFu"
   },
   "source": [
    "## Data preparation"
   ]
  },
  {
   "cell_type": "code",
   "execution_count": null,
   "metadata": {
    "id": "Lf8ufHH5JrFu"
   },
   "outputs": [],
   "source": [
    "# Inspect the dataframe to understand the given data.\n",
    "\n"
   ]
  },
  {
   "cell_type": "code",
   "execution_count": null,
   "metadata": {
    "id": "Dwcty-wmJrFw"
   },
   "outputs": [],
   "source": [
    "#print the column names\n"
   ]
  },
  {
   "cell_type": "code",
   "execution_count": null,
   "metadata": {
    "id": "FYCtKXD1JrFw"
   },
   "outputs": [],
   "source": [
    "#Assign new column names\n"
   ]
  },
  {
   "cell_type": "code",
   "execution_count": null,
   "metadata": {
    "id": "grQUPFL5JrFx"
   },
   "outputs": [],
   "source": [
    "#Assign nan in place of blanks in the complaints column\n"
   ]
  },
  {
   "cell_type": "code",
   "execution_count": null,
   "metadata": {
    "id": "Jfxd8VSmJrFy"
   },
   "outputs": [],
   "source": [
    "#Remove all rows where complaints column is nan\n"
   ]
  },
  {
   "cell_type": "markdown",
   "metadata": {
    "id": "L944HZpsJrFy"
   },
   "source": [
    "## Prepare the text for topic modeling\n",
    "\n",
    "Once you have removed all the blank complaints, you need to:\n",
    "\n",
    "* Make the text lowercase\n",
    "* Remove text in square brackets\n",
    "* Remove punctuation\n",
    "* Remove words containing numbers\n",
    "\n",
    "\n",
    "Once you have done these cleaning operations you need to perform the following:\n",
    "* Lemmatize the texts\n",
    "* Use POS tags to get relevant words from the texts.\n"
   ]
  },
  {
   "cell_type": "code",
   "execution_count": null,
   "metadata": {
    "id": "qm7SjjSkJrFz"
   },
   "outputs": [],
   "source": [
    "# Write your function here to clean the text and remove all the unnecessary elements.\n"
   ]
  },
  {
   "cell_type": "code",
   "execution_count": null,
   "metadata": {
    "id": "zgOu8t8HJrFz"
   },
   "outputs": [],
   "source": [
    "#Write your function to Lemmatize the texts\n"
   ]
  },
  {
   "cell_type": "code",
   "execution_count": null,
   "metadata": {
    "id": "uXnN7aa_JrF0"
   },
   "outputs": [],
   "source": [
    "#Create a dataframe('df_clean') that will have only the complaints and the lemmatized complaints \n"
   ]
  },
  {
   "cell_type": "code",
   "execution_count": null,
   "metadata": {
    "id": "nOiDVvEIJrF0"
   },
   "outputs": [],
   "source": [
    "df_clean"
   ]
  },
  {
   "cell_type": "code",
   "execution_count": null,
   "metadata": {
    "id": "Kk7fc4DuJrF1"
   },
   "outputs": [],
   "source": [
    "#Write your function to extract the POS tags \n",
    "\n"
   ]
  },
  {
   "cell_type": "code",
   "execution_count": null,
   "metadata": {
    "id": "AjxfchvFJrF2"
   },
   "outputs": [],
   "source": [
    "#The clean dataframe should now contain the raw complaint, lemmatized complaint and the complaint after removing POS tags.\n",
    "df_clean"
   ]
  },
  {
   "cell_type": "markdown",
   "metadata": {
    "id": "_7Un1AElJrF2"
   },
   "source": [
    "## Exploratory data analysis to get familiar with the data.\n",
    "\n",
    "Write the code in this task to perform the following:\n",
    "\n",
    "*   Visualise the data according to the 'Complaint' character length\n",
    "*   Using a word cloud find the top 40 words by frequency among all the articles after processing the text\n",
    "*   Find the top unigrams,bigrams and trigrams by frequency among all the complaints after processing the text. ‘\n",
    "\n",
    "\n"
   ]
  },
  {
   "cell_type": "code",
   "execution_count": null,
   "metadata": {
    "id": "q-zaqJF6JrF2"
   },
   "outputs": [],
   "source": [
    "# Write your code here to visualise the data according to the 'Complaint' character length"
   ]
  },
  {
   "cell_type": "markdown",
   "metadata": {
    "id": "T9jD_6SeJrF3"
   },
   "source": [
    "#### Find the top 40 words by frequency among all the articles after processing the text."
   ]
  },
  {
   "cell_type": "code",
   "execution_count": 15,
   "metadata": {
    "id": "QcfdvtfZJrF3"
   },
   "outputs": [
    {
     "data": {
      "image/png": "[encoded data removed]",
      "text/plain": [
       "<Figure size 432x288 with 1 Axes>"
      ]
     },
     "metadata": {
      "needs_background": "light"
     },
     "output_type": "display_data"
    }
   ],
   "source": [
    "#Using a word cloud find the top 40 words by frequency among all the articles after processing the text\n",
    "from wordcloud import WordCloud\n",
    "stops = set(stopwords.words('english'))\n",
    "wc = WordCloud(stopwords =stops , max_words=40).generate(' '.join(df['_source.complaint_what_happened']))\n",
    "fig = plt.figure(1)\n",
    "plt.imshow(wc)\n",
    "plt.axis('off')\n",
    "plt.show()"
   ]
  },
  {
   "cell_type": "code",
   "execution_count": null,
   "metadata": {},
   "outputs": [],
   "source": []
  },
  {
   "cell_type": "code",
   "execution_count": 17,
   "metadata": {
    "id": "OkSmc3UaJrF4"
   },
   "outputs": [],
   "source": [
    "#Removing -PRON- from the text corpus\n",
    "df_clean['Complaint_clean'] = df_clean['complaint_POS_removed'].str.replace('-PRON-', '')"
   ]
  },
  {
   "cell_type": "markdown",
   "metadata": {
    "id": "5DfCSbbmJrF4"
   },
   "source": [
    "#### Find the top unigrams,bigrams and trigrams by frequency among all the complaints after processing the text."
   ]
  },
  {
   "cell_type": "code",
   "execution_count": null,
   "metadata": {
    "id": "5mbk5DS5JrF4"
   },
   "outputs": [],
   "source": [
    "#Write your code here to find the top 30 unigram frequency among the complaints in the cleaned datafram(df_clean). \n"
   ]
  },
  {
   "cell_type": "code",
   "execution_count": null,
   "metadata": {
    "id": "YX7fedm1JrF8"
   },
   "outputs": [],
   "source": [
    "#Print the top 10 words in the unigram frequency\n"
   ]
  },
  {
   "cell_type": "code",
   "execution_count": null,
   "metadata": {
    "id": "aV7kD7w8JrF8"
   },
   "outputs": [],
   "source": [
    "#Write your code here to find the top 30 bigram frequency among the complaints in the cleaned datafram(df_clean). "
   ]
  },
  {
   "cell_type": "code",
   "execution_count": null,
   "metadata": {
    "id": "NPnMNIpyJrF9"
   },
   "outputs": [],
   "source": [
    "#Print the top 10 words in the bigram frequency"
   ]
  },
  {
   "cell_type": "code",
   "execution_count": 20,
   "metadata": {
    "id": "Xkh7vtbtJrF-",
    "scrolled": true
   },
   "outputs": [],
   "source": [
    "#Write your code here to find the top 30 trigram frequency among the complaints in the cleaned datafram(df_clean). \n",
    "corpus = df['_source.complaint_what_happened']\n",
    "vec = CountVectorizer(ngram_range=(3,3)).fit(corpus)\n",
    "bow = vec.transform(corpus)\n",
    "sum_words = bow.sum(axis=0)\n",
    "words_freq = [(word, sum_words[0, idx]) for word, idx in vec.vocabulary_.items()]\n",
    "words_freq =sorted(words_freq, key = lambda x: x[1], reverse=True)"
   ]
  },
  {
   "cell_type": "code",
   "execution_count": 21,
   "metadata": {
    "collapsed": true
   },
   "outputs": [
    {
     "data": {
      "text/plain": [
       "[('xxxx xxxx xxxx', 33166),\n",
       " ('xx xx xxxx', 27747),\n",
       " ('on xx xx', 14710),\n",
       " ('on xxxx xxxx', 4903),\n",
       " ('xxxx xxxx and', 4005),\n",
       " ('in xx xx', 3118),\n",
       " ('xx xx 2020', 2853),\n",
       " ('xxxx xx xx', 2715),\n",
       " ('xxxx and xxxx', 2626),\n",
       " ('xx xxxx and', 2593),\n",
       " ('my credit report', 2472),\n",
       " ('to xxxx xxxx', 2383),\n",
       " ('on my credit', 2366),\n",
       " ('jp morgan chase', 2212),\n",
       " ('xx xx 2019', 2127),\n",
       " ('the xxxx xxxx', 2124),\n",
       " ('told me that', 2091),\n",
       " ('my credit card', 2074),\n",
       " ('from xxxx xxxx', 1902),\n",
       " ('the amount of', 1891),\n",
       " ('in xxxx xxxx', 1891),\n",
       " ('xx xx 2018', 1851),\n",
       " ('was told that', 1836),\n",
       " ('at xxxx xxxx', 1819),\n",
       " ('and was told', 1810),\n",
       " ('xx xxxx xxxx', 1761),\n",
       " ('chase credit card', 1747),\n",
       " ('on my account', 1529),\n",
       " ('and xxxx xxxx', 1498),\n",
       " ('to my account', 1491)]"
      ]
     },
     "execution_count": 21,
     "metadata": {},
     "output_type": "execute_result"
    }
   ],
   "source": [
    "words_freq[:30]"
   ]
  },
  {
   "cell_type": "code",
   "execution_count": null,
   "metadata": {
    "id": "REcVxNfvJrF-"
   },
   "outputs": [],
   "source": [
    "#Print the top 10 words in the trigram frequency"
   ]
  },
  {
   "cell_type": "markdown",
   "metadata": {
    "id": "yUXzFji0JrF_"
   },
   "source": [
    "##### The personal details of customer has been masked in the dataset with xxxx. Let's remove the masked text as this will be of no use for our analysis"
   ]
  },
  {
   "cell_type": "code",
   "execution_count": null,
   "metadata": {
    "id": "wKda-a_IJrF_"
   },
   "outputs": [],
   "source": [
    "df_clean['Complaint_clean'] = df_clean['Complaint_clean'].str.replace('xxxx','')"
   ]
  },
  {
   "cell_type": "code",
   "execution_count": 23,
   "metadata": {},
   "outputs": [
    {
     "data": {
      "text/plain": [
       "0        good morning my name is   and i appreciate it ...\n",
       "1        i upgraded my   card in //2018 and was told by...\n",
       "2        chase card was reported on //2019. however, fr...\n",
       "3        on //2018, while trying to book a     ticket, ...\n",
       "4        my grand son give me check for {$1600.00} i de...\n",
       "                               ...                        \n",
       "21067    after being a chase card customer for well ove...\n",
       "21068    on wednesday, // i called chas, my   visa cred...\n",
       "21069    i am not familiar with  pay and did not unders...\n",
       "21070    i have had flawless credit for 30 yrs. i've ha...\n",
       "21071    roughly 10+ years ago i closed out my accounts...\n",
       "Name: _source.complaint_what_happened, Length: 21072, dtype: object"
      ]
     },
     "execution_count": 23,
     "metadata": {},
     "output_type": "execute_result"
    }
   ],
   "source": [
    "df['_source.complaint_what_happened'].str.lower().str.replace('xx+','',regex=True)"
   ]
  },
  {
   "cell_type": "code",
   "execution_count": null,
   "metadata": {
    "id": "9UIFk8fQJrF_"
   },
   "outputs": [],
   "source": [
    "#All masked texts has been removed\n",
    "df_clean"
   ]
  },
  {
   "cell_type": "markdown",
   "metadata": {
    "id": "k-I0k0QtJrGA"
   },
   "source": [
    "## Feature Extraction\n",
    "Convert the raw texts to a matrix of TF-IDF features\n",
    "\n",
    "**max_df** is used for removing terms that appear too frequently, also known as \"corpus-specific stop words\"\n",
    "max_df = 0.95 means \"ignore terms that appear in more than 95% of the complaints\"\n",
    "\n",
    "**min_df** is used for removing terms that appear too infrequently\n",
    "min_df = 2 means \"ignore terms that appear in less than 2 complaints\""
   ]
  },
  {
   "cell_type": "code",
   "execution_count": null,
   "metadata": {
    "id": "Y8fGwaCPJrGA"
   },
   "outputs": [],
   "source": [
    "#Write your code here to initialise the TfidfVectorizer \n"
   ]
  },
  {
   "cell_type": "markdown",
   "metadata": {
    "id": "yYzD85nTJrGA"
   },
   "source": [
    "#### Create a document term matrix using fit_transform\n",
    "\n",
    "The contents of a document term matrix are tuples of (complaint_id,token_id) tf-idf score:\n",
    "The tuples that are not there have a tf-idf score of 0"
   ]
  },
  {
   "cell_type": "code",
   "execution_count": null,
   "metadata": {
    "id": "ffzdDpp_JrGB"
   },
   "outputs": [],
   "source": [
    "#Write your code here to create the Document Term Matrix by transforming the complaints column present in df_clean.\n"
   ]
  },
  {
   "cell_type": "markdown",
   "metadata": {
    "id": "7Q9lwvNEJrGB"
   },
   "source": [
    "## Topic Modelling using NMF\n",
    "\n",
    "Non-Negative Matrix Factorization (NMF) is an unsupervised technique so there are no labeling of topics that the model will be trained on. The way it works is that, NMF decomposes (or factorizes) high-dimensional vectors into a lower-dimensional representation. These lower-dimensional vectors are non-negative which also means their coefficients are non-negative.\n",
    "\n",
    "In this task you have to perform the following:\n",
    "\n",
    "* Find the best number of clusters \n",
    "* Apply the best number to create word clusters\n",
    "* Inspect & validate the correction of each cluster wrt the complaints \n",
    "* Correct the labels if needed \n",
    "* Map the clusters to topics/cluster names"
   ]
  },
  {
   "cell_type": "code",
   "execution_count": null,
   "metadata": {
    "id": "amLT4omWJrGB"
   },
   "outputs": [],
   "source": [
    "from sklearn.decomposition import NMF"
   ]
  },
  {
   "cell_type": "markdown",
   "metadata": {
    "id": "0wYR1xUTJrGD"
   },
   "source": [
    "## Manual Topic Modeling\n",
    "You need to do take the trial & error approach to find the best num of topics for your NMF model.\n",
    "\n",
    "The only parameter that is required is the number of components i.e. the number of topics we want. This is the most crucial step in the whole topic modeling process and will greatly affect how good your final topics are."
   ]
  },
  {
   "cell_type": "code",
   "execution_count": null,
   "metadata": {
    "id": "sgd2A6bhJrGD"
   },
   "outputs": [],
   "source": [
    "#Load your nmf_model with the n_components i.e 5\n",
    "num_topics = #write the value you want to test out\n",
    "\n",
    "#keep the random_state =40\n",
    "nmf_model = #write your code here"
   ]
  },
  {
   "cell_type": "code",
   "execution_count": null,
   "metadata": {
    "id": "VPMDYbt_JrGE"
   },
   "outputs": [],
   "source": [
    "nmf_model.fit(dtm)\n",
    "len(tfidf.get_feature_names())"
   ]
  },
  {
   "cell_type": "code",
   "execution_count": null,
   "metadata": {
    "id": "16kRfat5JrGE"
   },
   "outputs": [],
   "source": [
    "#Print the Top15 words for each of the topics\n"
   ]
  },
  {
   "cell_type": "code",
   "execution_count": null,
   "metadata": {
    "id": "0OIT7LmFJrGF"
   },
   "outputs": [],
   "source": [
    "#Create the best topic for each complaint in terms of integer value 0,1,2,3 & 4\n",
    "\n",
    "# results = nmf.transform(dtf)\n",
    "# results.argmax(axis=1)"
   ]
  },
  {
   "cell_type": "code",
   "execution_count": null,
   "metadata": {
    "id": "peyYv-ORJrGF"
   },
   "outputs": [],
   "source": [
    "#Assign the best topic to each of the cmplaints in Topic Column\n",
    "\n",
    "df_clean['Topic'] = #write your code to assign topics to each rows."
   ]
  },
  {
   "cell_type": "code",
   "execution_count": null,
   "metadata": {
    "id": "fLh_Gf3nJrGF"
   },
   "outputs": [],
   "source": [
    "df_clean.head()"
   ]
  },
  {
   "cell_type": "code",
   "execution_count": null,
   "metadata": {
    "id": "aQKpufSPJrGG"
   },
   "outputs": [],
   "source": [
    "#Print the first 5 Complaint for each of the Topics\n",
    "df_clean=df_clean.groupby('Topic').head(5)\n",
    "df_clean.sort_values('Topic')"
   ]
  },
  {
   "cell_type": "markdown",
   "metadata": {
    "id": "piyLxzj6v07j"
   },
   "source": [
    "#### After evaluating the mapping, if the topics assigned are correct then assign these names to the relevant topic:\n",
    "* Bank Account services\n",
    "* Credit card or prepaid card\n",
    "* Theft/Dispute Reporting\n",
    "* Mortgage/Loan\n",
    "* Others"
   ]
  },
  {
   "cell_type": "code",
   "execution_count": null,
   "metadata": {
    "id": "TWpwDG4RJrGG"
   },
   "outputs": [],
   "source": [
    "#Create the dictionary of Topic names and Topics\n",
    "\n",
    "Topic_names = { 0:'bank Account',1:'CC', ...  }\n",
    "#Replace Topics with Topic Names\n",
    "df_clean['Topic'] = df_clean['Topic'].map(Topic_names)"
   ]
  },
  {
   "cell_type": "code",
   "execution_count": null,
   "metadata": {
    "id": "-2ULY5K6JrGG"
   },
   "outputs": [],
   "source": [
    "df_clean"
   ]
  },
  {
   "cell_type": "markdown",
   "metadata": {
    "id": "7Mu0QBOcJrGH"
   },
   "source": [
    "## Supervised model to predict any new complaints to the relevant Topics.\n",
    "\n",
    "You have now build the model to create the topics for each complaints.Now in the below section you will use them to classify any new complaints.\n",
    "\n",
    "Since you will be using supervised learning technique we have to convert the topic names to numbers(numpy arrays only understand numbers)"
   ]
  },
  {
   "cell_type": "code",
   "execution_count": null,
   "metadata": {
    "id": "_U8J3J8wJrGH"
   },
   "outputs": [],
   "source": [
    "#Create the dictionary again of Topic names and Topics\n",
    "\n",
    "Topic_names = { 'bank Account':0,'cc':1 ...  }\n",
    "#Replace Topics with Topic Names\n",
    "df_clean['Topic'] = df_clean['Topic'].map(Topic_names)"
   ]
  },
  {
   "cell_type": "code",
   "execution_count": null,
   "metadata": {
    "id": "BWIgJUkQJrGH"
   },
   "outputs": [],
   "source": [
    "df_clean"
   ]
  },
  {
   "cell_type": "code",
   "execution_count": null,
   "metadata": {
    "id": "Xx-FrbkWJrGH"
   },
   "outputs": [],
   "source": [
    "#Keep the columns\"complaint_what_happened\" & \"Topic\" only in the new dataframe --> training_data\n",
    "training_data = "
   ]
  },
  {
   "cell_type": "code",
   "execution_count": null,
   "metadata": {
    "id": "lVg2pa12JrGI"
   },
   "outputs": [],
   "source": [
    "training_data"
   ]
  },
  {
   "cell_type": "markdown",
   "metadata": {
    "id": "280Vbqk-7a8M"
   },
   "source": [
    "####Apply the supervised models on the training data created. In this process, you have to do the following:\n",
    "* Create the vector counts using Count Vectoriser\n",
    "* Transform the word vecotr to tf-idf\n",
    "* Create the train & test data using the train_test_split on the tf-idf & topics\n"
   ]
  },
  {
   "cell_type": "code",
   "execution_count": null,
   "metadata": {
    "id": "oUlQpgkzJrGI"
   },
   "outputs": [],
   "source": [
    "# 25% test data , random_seed=42\n",
    "\n",
    "#Write your code to get the Vector count\n",
    "\n",
    "#Write your code here to transform the word vector to tf-idf"
   ]
  },
  {
   "cell_type": "markdown",
   "metadata": {
    "id": "uMU3vj6w-wqL"
   },
   "source": [
    "You have to try atleast 3 models on the train & test data from these options:\n",
    "* Logistic regression\n",
    "* Decision Tree\n",
    "* Random Forest\n",
    "* Naive Bayes (optional)\n",
    "\n",
    "**Using the required evaluation metrics judge the tried models and select the ones performing the best**"
   ]
  },
  {
   "cell_type": "code",
   "execution_count": null,
   "metadata": {
    "id": "udLHpPsZJrGI"
   },
   "outputs": [],
   "source": [
    "# Write your code here to build any 3 models and evaluate them using the required metrics\n",
    "\n"
   ]
  },
  {
   "cell_type": "code",
   "execution_count": null,
   "metadata": {
    "id": "N2OznsObJrGP"
   },
   "outputs": [],
   "source": []
  }
 ],
 "metadata": {
  "colab": {
   "collapsed_sections": [
    "T9jD_6SeJrF3",
    "5DfCSbbmJrF4",
    "yYzD85nTJrGA",
    "piyLxzj6v07j",
    "280Vbqk-7a8M"
   ],
   "name": "Automatic_Ticket_Classification_Assignment.ipynb",
   "provenance": []
  },
  "kernelspec": {
   "display_name": "Python 3 (ipykernel)",
   "language": "python",
   "name": "python3"
  },
  "language_info": {
   "codemirror_mode": {
    "name": "ipython",
    "version": 3
   },
   "file_extension": ".py",
   "mimetype": "text/x-python",
   "name": "python",
   "nbconvert_exporter": "python",
   "pygments_lexer": "ipython3",
   "version": "3.10.6"
  }
 },
 "nbformat": 4,
 "nbformat_minor": 1
}
